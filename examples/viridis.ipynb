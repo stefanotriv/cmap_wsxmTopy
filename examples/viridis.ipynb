{
 "cells": [
  {
   "cell_type": "code",
   "execution_count": 27,
   "metadata": {},
   "outputs": [
    {
     "data": {
      "image/png": "[encoded data removed]",
      "text/plain": [
       "<Figure size 432x288 with 2 Axes>"
      ]
     },
     "metadata": {
      "needs_background": "light"
     },
     "output_type": "display_data"
    }
   ],
   "source": [
    "\n",
    "##### imports ######\n",
    "import matplotlib.pyplot as plt\n",
    "import sys\n",
    "import numpy as np\n",
    "sys.path.append(\"../src\")\n",
    "import converter as conv\n",
    "\n",
    "\n",
    "##### code #######\n",
    "\n",
    "\n",
    "### path of the .lut file, here one example provided in the example folder\n",
    "fname  = 'Julio.lut'\n",
    "\n",
    "### convert the colormap\n",
    "\n",
    "cmap_lut = conv.cmap_fromLut(fname)\n",
    "\n",
    "# Test the converted colormap\n",
    "plt.figure()\n",
    "data = np.random.rand(10, 10)  # Example data\n",
    "plt.imshow(data, cmap=cmap_lut)\n",
    "plt.colorbar()\n",
    "plt.show()"
   ]
  },
  {
   "cell_type": "code",
   "execution_count": 26,
   "metadata": {},
   "outputs": [],
   "source": [
    "##### imports ######\n",
    "import matplotlib.pyplot as plt\n",
    "import sys\n",
    "import matplotlib\n",
    "sys.path.append(\"src\")\n",
    "# import converter as conv\n",
    "import numpy as np\n",
    "\n",
    "##### code #######\n",
    "\n",
    "def export_colormap(colormap, filename):\n",
    "    cmaplist = [colormap(i) for i in range(0,colormap.N,4)]\n",
    "    colormap = matplotlib.colors.LinearSegmentedColormap.from_list('mcm',cmaplist, colormap.N/4)\n",
    "\n",
    "    with open(filename, 'w') as file:\n",
    "        file.write(\"WSxM file copyright UAM\\n\")\n",
    "        file.write(\"New Format Palette. 2001\\n\")\n",
    "        file.write(\"Image header size: 1143\\n\\n\")\n",
    "        \n",
    "        def write_color_points(color_name, color_points):\n",
    "            file.write(f\"[{color_name} Info]\\n\")\n",
    "            for i, point in enumerate(color_points):\n",
    "                file.write(f\"    Control Point {i}: ({int(point[0]*255)} , {255-int(point[1]*255)})\\n\")\n",
    "            file.write(f\"    Number of Control Points: {len(color_points)}\\n\\n\")\n",
    "        \n",
    "        write_color_points(\"Blue\", colormap._segmentdata['blue'])\n",
    "        write_color_points(\"Green\", colormap._segmentdata['green'])\n",
    "        write_color_points(\"Red\", colormap._segmentdata['red'])\n",
    "        \n",
    "        file.write(\"[Palette Generation Settings]\\n\")\n",
    "        file.write(\"    Derivate Mode for the last blue Point: Automatic\\n\")\n",
    "        file.write(\"    Derivate Mode for the last green Point: Automatic\\n\")\n",
    "        file.write(\"    Derivate Mode for the last red Point: Automatic\\n\")\n",
    "        file.write(\"    Is there a particular palette index colored?: No\\n\")\n",
    "        file.write(\"    Smooth Blue: No\\n\")\n",
    "        file.write(\"    Smooth Green: No\\n\")\n",
    "        file.write(\"    Smooth Red: No\\n\\n\")\n",
    "        \n",
    "        file.write(\"[Header end]\")\n",
    "    return colormap\n",
    "# colormap from matplotlib\n",
    "cmap = plt.cm.viridis\n",
    "\n",
    "# export the map in .lut format\n",
    "\n",
    "cmap_exp = export_colormap(cmap, 'viridis.lut')\n"
   ]
  }
 ],
 "metadata": {
  "kernelspec": {
   "display_name": "base",
   "language": "python",
   "name": "python3"
  },
  "language_info": {
   "codemirror_mode": {
    "name": "ipython",
    "version": 3
   },
   "file_extension": ".py",
   "mimetype": "text/x-python",
   "name": "python",
   "nbconvert_exporter": "python",
   "pygments_lexer": "ipython3",
   "version": "3.9.7"
  },
  "orig_nbformat": 4
 },
 "nbformat": 4,
 "nbformat_minor": 2
}
